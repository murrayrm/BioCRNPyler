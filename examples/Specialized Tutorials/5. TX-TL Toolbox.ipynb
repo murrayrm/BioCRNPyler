{
 "cells": [
  {
   "cell_type": "markdown",
   "metadata": {},
   "source": [
    "## The TX-TL Toolbox in BioCRNpyler\n",
    "\n",
    "### A recreation of the original MATLAB TxTl Toolbox, as seen in [Singhal et al. 2020](https://www.biorxiv.org/content/10.1101/2020.08.05.237990v1)\n",
    "\n",
    "This tutorial shows how to use the EnergyTxTlExtract Mixture with a parameter file derived from the paper above. This Mixture is a simplification of the models used in the original toolbox. Notable changes include:\n",
    "1. Using only a single nucleotide species NTPs (instead of GTP, ATP, UTP, and CTP)\n",
    "2. A slightly different NTP regeneration Mechanism which explicitly incorporates the amount of fuel, 3PGA, put into the extract and metabolic leak of the extract.\n",
    "3. Degredation of RNA bound to ribosomes (which releases the ribosome).\n",
    "4. A modification of the Energy consumption reactions for Transcription and Translation so that there is only a single binding reaction.\n",
    "\n",
    "### The CRN displayed below shows the energy utilization process model"
   ]
  },
  {
   "cell_type": "code",
   "execution_count": 3,
   "metadata": {},
   "outputs": [
    {
     "name": "stderr",
     "output_type": "stream",
     "text": [
      "C:\\Users\\ayush\\Box\\Research\\bioCRNpyler\\biocrnpyler\\core\\parameter.py:507: UserWarning: parameter file contains no unit column! Please add a column named ['unit', 'units'].\n",
      "  warn(f\"parameter file contains no {accepted_name} column! Please add a \"\n"
     ]
    },
    {
     "name": "stdout",
     "output_type": "stream",
     "text": [
      "Species(N = 7) = {\n",
      "metabolite[amino_acids] (@ 30.0),  \n",
      "   found_key=(mech=initial concentration, partid=None, name=amino_acids).\n",
      "   search_key=(mech=initial concentration, partid=, name=amino_acids).\n",
      "protein[RNAase] (@ 20.2),  \n",
      "   found_key=(mech=initial concentration, partid=None, name=RNAase).\n",
      "   search_key=(mech=initial concentration, partid=, name=RNAase).\n",
      "metabolite[NTPs] (@ 5.0),  \n",
      "   found_key=(mech=initial concentration, partid=None, name=NTPs).\n",
      "   search_key=(mech=initial concentration, partid=, name=NTPs).\n",
      "protein[Ribo] (@ 0.0273),  \n",
      "   found_key=(mech=initial concentration, partid=None, name=protein_Ribo).\n",
      "   search_key=(mech=initial concentration, partid=, name=protein_Ribo).\n",
      "protein[RNAP] (@ 0.00933),  \n",
      "   found_key=(mech=initial concentration, partid=None, name=RNAP).\n",
      "   search_key=(mech=initial concentration, partid=, name=RNAP).\n",
      "metabolite[NDPs] (@ 0),  metabolite[Fuel_3PGA] (@ 0),  \n",
      "}\n",
      "\n",
      "Reactions (2) = [\n",
      "0. metabolite[Fuel_3PGA]+metabolite[NDPs] --> metabolite[NTPs]\n",
      " Kf=k_forward * metabolite_Fuel_3PGA * metabolite_NDPs\n",
      "  k_forward=0.02\n",
      "  found_key=(mech=one_step_pathway, partid=NTPs_production, name=k).\n",
      "  search_key=(mech=one_step_pathway, partid=NTPs_production, name=k).\n",
      "\n",
      "1. metabolite[NTPs] --> metabolite[NDPs]\n",
      " Kf=k_forward * metabolite_NTPs\n",
      "  k_forward=1.77e-05\n",
      "  found_key=(mech=one_step_pathway, partid=NTPs_degredation, name=k).\n",
      "  search_key=(mech=one_step_pathway, partid=NTPs_degredation, name=k).\n",
      "\n",
      "]\n"
     ]
    },
    {
     "data": {
      "image/png": "[encoded data removed]",
      "text/plain": [
       "<Figure size 640x480 with 1 Axes>"
      ]
     },
     "metadata": {},
     "output_type": "display_data"
    }
   ],
   "source": [
    "from biocrnpyler.mixtures import EnergyTxTlExtract\n",
    "\n",
    "#A = DNAassembly(\"A\", promoter = \"P\", rbs = \"rbs\")\n",
    "E = EnergyTxTlExtract(parameter_file = \"txtl_toolbox_parameters.txt\")\n",
    "\n",
    "CRN = E.compile_crn()\n",
    "\n",
    "print(CRN.pretty_print())\n",
    "\n",
    "\n",
    "\n",
    "try:\n",
    "    import numpy as np\n",
    "    maxtime = 30000\n",
    "    timepoints = np.arange(0, maxtime, 100)\n",
    "    R = CRN.simulate_with_bioscrape_via_sbml(timepoints)\n",
    "    if R is not None:\n",
    "        import pylab as plt\n",
    "        plt.plot(timepoints, R[str(E.ntps.get_species())], label = E.ntps.get_species())\n",
    "        plt.plot(timepoints, R[str(E.amino_acids.get_species())], label = E.amino_acids.get_species())\n",
    "        plt.plot(timepoints, R[str(E.fuel.get_species())], label = E.fuel.get_species())\n",
    "        plt.xticks(np.arange(0, maxtime, 3600), [str(i) for i in range(0, int(np.ceil(maxtime/3600)))])\n",
    "        plt.legend()\n",
    "except ModuleNotFoundError:\n",
    "    print('please install the plotting libraries: pip install biocrnpyler[all]')"
   ]
  },
  {
   "cell_type": "markdown",
   "metadata": {},
   "source": [
    "#### Adding a DNA assembly \n",
    "This will produce protein expression, but for a limited time. The"
   ]
  },
  {
   "cell_type": "code",
   "execution_count": 4,
   "metadata": {},
   "outputs": [
    {
     "name": "stdout",
     "output_type": "stream",
     "text": [
      "Species(N = 14) = {\n",
      "protein[RNAase] (@ 20.2),  \n",
      "   found_key=(mech=initial concentration, partid=None, name=RNAase).\n",
      "   search_key=(mech=initial concentration, partid=, name=RNAase).\n",
      "protein[Ribo] (@ 0.0273),  \n",
      "   found_key=(mech=initial concentration, partid=None, name=protein_Ribo).\n",
      "   search_key=(mech=initial concentration, partid=, name=protein_Ribo).\n",
      "dna[A] (@ 1e-06),  \n",
      "   found_key=(mech=initial concentration, partid=None, name=A).\n",
      "   search_key=(mech=initial concentration, partid=, name=A).\n",
      "complex[protein[Ribo]:rna[A]] (@ 0),  complex[protein[RNAase]:rna[A]] (@ 0),  complex[dna[A]:protein[RNAP]] (@ 0),  complex[complex[protein[Ribo]:rna[A]]:protein[RNAase]] (@ 0),  metabolite[amino_acids] (@ 0),  protein[RNAP] (@ 0),  metabolite[NTPs] (@ 0),  metabolite[NDPs] (@ 0),  metabolite[Fuel_3PGA] (@ 0),  protein[A] (@ 0),  rna[A] (@ 0),  \n",
      "}\n",
      "\n",
      "Reactions (12) = [\n",
      "0. dna[A]+protein[RNAP] <--> complex[dna[A]:protein[RNAP]]\n",
      " Kf=k_forward * dna_A * protein_RNAP\n",
      " Kr=k_reverse * complex_dna_A_protein_RNAP_\n",
      "  k_forward=4.48\n",
      "  found_key=(mech=energy_transcription_mm, partid=None, name=kb).\n",
      "  search_key=(mech=energy_transcription_mm, partid=P, name=kb).\n",
      "  k_reverse=2.48889e-06\n",
      "  found_key=(mech=energy_transcription_mm, partid=None, name=ku).\n",
      "  search_key=(mech=energy_transcription_mm, partid=P, name=ku).\n",
      "\n",
      "1. metabolite[NTPs]+complex[dna[A]:protein[RNAP]] --> metabolite[NTPs]+dna[A]+protein[RNAP]+rna[A]\n",
      " Kf=k_forward * metabolite_NTPs * complex_dna_A_protein_RNAP_\n",
      "  k_forward=0.010833333333333334\n",
      "\n",
      "2. metabolite[NTPs]+complex[dna[A]:protein[RNAP]] --> complex[dna[A]:protein[RNAP]]\n",
      " Kf=k_forward * metabolite_NTPs * complex_dna_A_protein_RNAP_\n",
      "  k_forward=3.25\n",
      "  found_key=(mech=energy_transcription_mm, partid=None, name=ktx).\n",
      "  search_key=(mech=energy_transcription_mm, partid=P, name=ktx).\n",
      "\n",
      "3. rna[A]+protein[Ribo] <--> complex[protein[Ribo]:rna[A]]\n",
      " Kf=k_forward * rna_A * protein_Ribo\n",
      " Kr=k_reverse * complex_protein_Ribo_rna_A_\n",
      "  k_forward=0.819\n",
      "  found_key=(mech=energy_translation_mm, partid=None, name=kb).\n",
      "  search_key=(mech=energy_translation_mm, partid=rbs, name=kb).\n",
      "  k_reverse=0.002853659\n",
      "  found_key=(mech=energy_translation_mm, partid=None, name=ku).\n",
      "  search_key=(mech=energy_translation_mm, partid=rbs, name=ku).\n",
      "\n",
      "4. 4metabolite[NTPs]+metabolite[amino_acids]+complex[protein[Ribo]:rna[A]] --> 4metabolite[NTPs]+metabolite[amino_acids]+rna[A]+protein[Ribo]+protein[A]\n",
      " Kf=k_forward * metabolite_NTPs^4 * metabolite_amino_acids * complex_protein_Ribo_rna_A_\n",
      "  k_forward=0.192\n",
      "\n",
      "5. 4metabolite[NTPs]+metabolite[amino_acids]+complex[protein[Ribo]:rna[A]] --> complex[protein[Ribo]:rna[A]]+4metabolite[NDPs]\n",
      " Kf=k_forward * metabolite_NTPs^4 * metabolite_amino_acids * complex_protein_Ribo_rna_A_\n",
      "  k_forward=19.2\n",
      "  found_key=(mech=energy_translation_mm, partid=None, name=ktl).\n",
      "  search_key=(mech=energy_translation_mm, partid=rbs, name=ktl).\n",
      "\n",
      "6. metabolite[Fuel_3PGA]+metabolite[NDPs] --> metabolite[NTPs]\n",
      " Kf=k_forward * metabolite_Fuel_3PGA * metabolite_NDPs\n",
      "  k_forward=0.02\n",
      "  found_key=(mech=one_step_pathway, partid=NTPs_production, name=k).\n",
      "  search_key=(mech=one_step_pathway, partid=NTPs_production, name=k).\n",
      "\n",
      "7. metabolite[NTPs] --> metabolite[NDPs]\n",
      " Kf=k_forward * metabolite_NTPs\n",
      "  k_forward=1.77e-05\n",
      "  found_key=(mech=one_step_pathway, partid=NTPs_degredation, name=k).\n",
      "  search_key=(mech=one_step_pathway, partid=NTPs_degredation, name=k).\n",
      "\n",
      "8. rna[A]+protein[RNAase] <--> complex[protein[RNAase]:rna[A]]\n",
      " Kf=k_forward * rna_A * protein_RNAase\n",
      " Kr=k_reverse * complex_protein_RNAase_rna_A_\n",
      "  k_forward=1.0\n",
      "  found_key=(mech=rna_degredation_mm, partid=None, name=kb).\n",
      "  search_key=(mech=rna_degredation_mm, partid=rna_A, name=kb).\n",
      "  k_reverse=1.26582e-06\n",
      "  found_key=(mech=rna_degredation_mm, partid=None, name=ku).\n",
      "  search_key=(mech=rna_degredation_mm, partid=rna_A, name=ku).\n",
      "\n",
      "9. complex[protein[RNAase]:rna[A]] --> protein[RNAase]\n",
      " Kf=k_forward * complex_protein_RNAase_rna_A_\n",
      "  k_forward=1.01\n",
      "  found_key=(mech=rna_degredation_mm, partid=None, name=kdeg).\n",
      "  search_key=(mech=rna_degredation_mm, partid=rna_A, name=kdeg).\n",
      "\n",
      "10. complex[protein[Ribo]:rna[A]]+protein[RNAase] <--> complex[complex[protein[Ribo]:rna[A]]:protein[RNAase]]\n",
      " Kf=k_forward * complex_protein_Ribo_rna_A_ * protein_RNAase\n",
      " Kr=k_reverse * complex_complex_protein_Ribo_rna_A__protein_RNAase_\n",
      "  k_forward=1.0\n",
      "  found_key=(mech=rna_degredation_mm, partid=None, name=kb).\n",
      "  search_key=(mech=rna_degredation_mm, partid=complex_protein_Ribo_rna_A_, name=kb).\n",
      "  k_reverse=1.26582e-06\n",
      "  found_key=(mech=rna_degredation_mm, partid=None, name=ku).\n",
      "  search_key=(mech=rna_degredation_mm, partid=complex_protein_Ribo_rna_A_, name=ku).\n",
      "\n",
      "11. complex[complex[protein[Ribo]:rna[A]]:protein[RNAase]] --> protein[Ribo]+protein[RNAase]\n",
      " Kf=k_forward * complex_complex_protein_Ribo_rna_A__protein_RNAase_\n",
      "  k_forward=1.01\n",
      "  found_key=(mech=rna_degredation_mm, partid=None, name=kdeg).\n",
      "  search_key=(mech=rna_degredation_mm, partid=complex_protein_Ribo_rna_A_, name=kdeg).\n",
      "\n",
      "]\n"
     ]
    },
    {
     "name": "stderr",
     "output_type": "stream",
     "text": [
      "C:\\Users\\ayush\\Box\\Research\\bioCRNpyler\\biocrnpyler\\core\\parameter.py:507: UserWarning: parameter file contains no unit column! Please add a column named ['unit', 'units'].\n",
      "  warn(f\"parameter file contains no {accepted_name} column! Please add a \"\n"
     ]
    },
    {
     "data": {
      "image/png": "[encoded data removed]",
      "text/plain": [
       "<Figure size 640x480 with 2 Axes>"
      ]
     },
     "metadata": {},
     "output_type": "display_data"
    }
   ],
   "source": [
    "from biocrnpyler.components import DNAassembly\n",
    "\n",
    "A = DNAassembly(\"A\", promoter = \"P\", rbs = \"rbs\", initial_concentration = 1*10**-6)\n",
    "E = EnergyTxTlExtract(components = [A], parameter_file = \"txtl_toolbox_parameters.txt\")\n",
    "\n",
    "CRN = E.compile_crn()\n",
    "\n",
    "print(CRN.pretty_print())\n",
    "try:\n",
    "    maxtime = 30000\n",
    "    timepoints = np.arange(0, maxtime, 100)\n",
    "    R = CRN.simulate_with_bioscrape_via_sbml(timepoints)\n",
    "    if R is not None:\n",
    "        plt.subplot(121)\n",
    "        plt.plot(timepoints, R[str(E.ntps.get_species())], label = E.ntps.get_species())\n",
    "        plt.plot(timepoints, R[str(E.amino_acids.get_species())], label = E.amino_acids.get_species())\n",
    "        plt.plot(timepoints, R[str(E.fuel.get_species())], label = E.fuel.get_species())\n",
    "        plt.xticks(np.arange(0, maxtime, 3600), [str(i) for i in range(0, int(np.ceil(maxtime/3600)))])\n",
    "        plt.legend()\n",
    "        \n",
    "        plt.subplot(122)\n",
    "        plt.plot(timepoints, R[str(A.transcript)], label = A.transcript)\n",
    "        plt.plot(timepoints, R[str(A.protein)], label = A.protein)\n",
    "        plt.xticks(np.arange(0, maxtime, 3600), [str(i) for i in range(0, int(np.ceil(maxtime/3600)))])\n",
    "        plt.legend()\n",
    "except ModuleNotFoundError:\n",
    "    print('please install the plotting libraries: pip install biocrnpyler[all]')"
   ]
  },
  {
   "cell_type": "code",
   "execution_count": 6,
   "metadata": {},
   "outputs": [
    {
     "data": {
      "text/plain": [
       "[dna_A,\n",
       " protein_RNAP,\n",
       " rna_A,\n",
       " metabolite_NTPs,\n",
       " complex_dna_A_protein_RNAP_,\n",
       " metabolite_amino_acids,\n",
       " protein_Ribo,\n",
       " protein_A,\n",
       " complex_protein_Ribo_rna_A_,\n",
       " protein_RNAase,\n",
       " metabolite_Fuel_3PGA,\n",
       " metabolite_NDPs,\n",
       " complex_protein_RNAase_rna_A_,\n",
       " complex_complex_protein_Ribo_rna_A__protein_RNAase_]"
      ]
     },
     "execution_count": 6,
     "metadata": {},
     "output_type": "execute_result"
    }
   ],
   "source": [
    "CRN.species"
   ]
  },
  {
   "cell_type": "code",
   "execution_count": null,
   "metadata": {},
   "outputs": [],
   "source": [
    "# End"
   ]
  }
 ],
 "metadata": {
  "kernelspec": {
   "display_name": "base",
   "language": "python",
   "name": "python3"
  },
  "language_info": {
   "codemirror_mode": {
    "name": "ipython",
    "version": 3
   },
   "file_extension": ".py",
   "mimetype": "text/x-python",
   "name": "python",
   "nbconvert_exporter": "python",
   "pygments_lexer": "ipython3",
   "version": "3.11.5"
  }
 },
 "nbformat": 4,
 "nbformat_minor": 4
}
